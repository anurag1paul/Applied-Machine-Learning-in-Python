{
 "cells": [
  {
   "cell_type": "code",
   "execution_count": null,
   "metadata": {
    "collapsed": false
   },
   "outputs": [],
   "source": [
    "import pandas as pd\n",
    "from IPython.display import display, HTML\n",
    "\n",
    "def install_module(module):\n",
    "    ! conda install \"$module\" -y\n",
    "    js_cmd = ['IPython.notebook.kernel.restart();',\n",
    "              'IPython.notebook.select(1);',\n",
    "              'IPython.notebook.execute_cell();'\n",
    "              ]\n",
    "    js = \"<script>{0}</script>\".format(' '.join(js_cmd))\n",
    "    display(HTML(js))\n",
    "\n",
    "url = 'https://simple.wikipedia.org/wiki/List_of_U.S._states'\n",
    "try:\n",
    "    df_list = pd.read_html(url)\n",
    "except Exception as e:\n",
    "    print(e)\n",
    "    # #install necessary modules for read_html\n",
    "    module = str(e).split()[0]\n",
    "    install_module(module)\n",
    "print('Number of Data Frames {}'.format(len(df_list)))\n",
    "df_list[0].columns = df_list[0].iloc[0]\n",
    "df = df_list[0].iloc[1:]\n",
    "df.head()\n"
   ]
  },
  {
   "cell_type": "code",
   "execution_count": null,
   "metadata": {
    "collapsed": false
   },
   "outputs": [],
   "source": [
    "link_chelsea = 'https://en.wikipedia.org/wiki/List_of_Chelsea_F.C._seasons'\n",
    "link_man_u = 'https://en.wikipedia.org/wiki/List_of_Manchester_United_F.C._seasons'\n",
    "link_man_city = 'https://en.wikipedia.org/wiki/List_of_Manchester_City_F.C._seasons'\n",
    "link_aresenal = 'https://en.wikipedia.org/wiki/List_of_Arsenal_F.C._seasons'"
   ]
  },
  {
   "cell_type": "code",
   "execution_count": null,
   "metadata": {
    "collapsed": false
   },
   "outputs": [],
   "source": [
    "import re\n",
    "    \n",
    "def get_num(text):\n",
    "    out = re.search('\\d+', text)\n",
    "    if out:\n",
    "        return out.group(0)\n",
    "    else:\n",
    "        return text\n",
    "\n",
    "def extract_data_from_html(link, index, match):\n",
    "    df_list = pd.read_html(link)\n",
    "    df_list[index].columns = df_list[index].iloc[0]\n",
    "    df = df_list[index].iloc[1:]\n",
    "    df['Season'] = df['Season'].apply(lambda x : get_num(x))\n",
    "    df.set_index('Season', inplace=True)\n",
    "    columns = list(df.iloc[0])[:-1]\n",
    "    columns.insert(0,'Division')\n",
    "    df.columns = columns\n",
    "    df = df[df['Division'] == match][['Division','P','W','D','L','F','A','Pts','Pos']]\n",
    "    df['Pos'] = df['Pos'].apply(lambda x: get_num(x))\n",
    "    df['Division'] = 'Prem'\n",
    "#     Removing all data before 2002 as all teams were in Prem by then\n",
    "    df.index = pd.to_datetime(df.index)\n",
    "    df = df[df.index >= pd.to_datetime('2002')]\n",
    "    for col in ['P', 'W','D','L','F','A','Pts','Pos']:\n",
    "        df[col] = df[col].apply(lambda x : int(get_num(x)))\n",
    "    df['Win%'] = df['W'].div(df['P'])*100\n",
    "    df['MA5 Win%'] = pd.rolling_mean(df['Win%'], window=5, center=True)\n",
    "    return df\n",
    "\n",
    "def extract_data_from_html_2(link, index, match):\n",
    "    df_list = pd.read_html(link)\n",
    "    df_list[index].columns = df_list[index].iloc[0]\n",
    "    df = df_list[index].iloc[1:]\n",
    "    df['Season'] = df['Season'].apply(lambda x : get_num(x))\n",
    "    df.set_index('Season', inplace = True)\n",
    "    df = df[df['Division'] == match]\n",
    "    cols = ['Division','P','W','D','L','F','A','Pts','Pos']\n",
    "    df= df[cols]\n",
    "    for col in ['P','W','D','L','F','A','Pts','Pos']:\n",
    "        df[col] = df[col].apply(lambda x : int(get_num(x)))\n",
    "    df['Division'] = 'Prem'\n",
    "#     Removing all data before 2002 as all teams were in Prem by then\n",
    "    df.index = pd.to_datetime(df.index)\n",
    "    df = df[df.index >= pd.to_datetime('2002')]\n",
    "    df['Win%'] = df['W'].div(df['P'])*100\n",
    "    df['MA5 Win%'] = pd.rolling_mean(df['Win%'], window=5, center=True)\n",
    "    return df"
   ]
  },
  {
   "cell_type": "code",
   "execution_count": null,
   "metadata": {
    "collapsed": false
   },
   "outputs": [],
   "source": [
    "chelsea_df = extract_data_from_html(link_chelsea, 2, 'Prem')\n",
    "chelsea_df.head()"
   ]
  },
  {
   "cell_type": "code",
   "execution_count": null,
   "metadata": {
    "collapsed": false
   },
   "outputs": [],
   "source": [
    "mancity_df = extract_data_from_html(link_man_city, 0, 'Prem (1)')\n",
    "mancity_df['Division'] = 'Prem'\n",
    "mancity_df.head()"
   ]
  },
  {
   "cell_type": "code",
   "execution_count": null,
   "metadata": {
    "collapsed": false
   },
   "outputs": [],
   "source": [
    "arsenal_df = extract_data_from_html_2(link_aresenal, 3, '1 !Prem')\n",
    "arsenal_df.head()"
   ]
  },
  {
   "cell_type": "code",
   "execution_count": null,
   "metadata": {
    "collapsed": false
   },
   "outputs": [],
   "source": [
    "manu_df = extract_data_from_html_2(link_man_u, 2, '1 !Prem')\n",
    "manu_df.head()"
   ]
  },
  {
   "cell_type": "code",
   "execution_count": null,
   "metadata": {
    "collapsed": false
   },
   "outputs": [],
   "source": [
    "% matplotlib notebook\n",
    "import matplotlib.pyplot as plt\n",
    "\n",
    "plt.figure()\n",
    "dfs = [chelsea_df, mancity_df, arsenal_df, manu_df]\n",
    "colors = ['blue', 'purple', 'red', 'orange' ]\n",
    "names = ['Chelsea', 'Manchester City', 'Arsenal', 'Manchester United']\n",
    "\n",
    "for i, df in enumerate(dfs):\n",
    "    if i==2:\n",
    "        linewidth = 3\n",
    "    else:\n",
    "        linewidth = 1\n",
    "    line = plt.plot(df.index, df['Pos'], color=colors[i], label=names[i], linewidth=linewidth)\n",
    "\n",
    "# remove all the ticks (both axes)\n",
    "plt.tick_params(top='off', bottom='off', left='off', right='off', labelleft='on', labelbottom='on')\n",
    "plt.yticks(range(2,21,2))\n",
    "plt.gca().invert_yaxis()\n",
    "# add a label to the x axis\n",
    "plt.xlabel('Seasons')\n",
    "# add a label to the y axis\n",
    "plt.ylabel('Position in the Premier League')\n",
    "# add a title\n",
    "plt.title('Performance of top EPL teams')\n",
    "for spine in plt.gca().spines.values():\n",
    "    spine.set_visible(False)\n",
    "plt.tight_layout()\n",
    "plt.legend(frameon=False)\n",
    "plt.show();\n",
    "\n",
    "plt.figure()\n",
    "for i, df in enumerate(dfs):\n",
    "    if i==2:\n",
    "        linewidth = 3\n",
    "    else:\n",
    "        linewidth = 1\n",
    "    plt.plot(df.index, df['MA5 Win%'], color=colors[i], label=names[i], linewidth=linewidth)\n",
    "# remove all the ticks (both axes)\n",
    "plt.tick_params(top='off', bottom='off', left='off', right='off', labelleft='on', labelbottom='on')\n",
    "plt.yticks(range(0,101,20))\n",
    "# add a label to the x axis\n",
    "plt.xlabel('Seasons')\n",
    "# add a label to the y axis\n",
    "plt.ylabel('5 Year Moving Average Win %')\n",
    "# add a title\n",
    "plt.title('EPL teams Win%')\n",
    "plt.text(0.1, 0.705, names[0], transform=plt.gca().transAxes, fontsize=8)\n",
    "plt.text(0.05, 0.35, names[1], transform=plt.gca().transAxes, fontsize=8)\n",
    "plt.text(0.1, 0.61, names[2], transform=plt.gca().transAxes, fontsize=8)\n",
    "plt.text(0.4, 0.71, names[3], transform=plt.gca().transAxes, fontsize=8)\n",
    "plt.text(0.6, 0.3, r'$ Win\\% = \\frac{Games Won}{Games Played}$', fontsize=10, \n",
    "                 bbox=dict(facecolor='lightgrey', alpha=0.3), transform=plt.gca().transAxes)\n",
    "for spine in plt.gca().spines.values():\n",
    "    spine.set_visible(False)\n",
    "plt.tight_layout()\n",
    "plt.show();\n"
   ]
  }
 ],
 "metadata": {
  "kernelspec": {
   "display_name": "Python 3",
   "language": "python",
   "name": "python3"
  },
  "language_info": {
   "codemirror_mode": {
    "name": "ipython",
    "version": 3
   },
   "file_extension": ".py",
   "mimetype": "text/x-python",
   "name": "python",
   "nbconvert_exporter": "python",
   "pygments_lexer": "ipython3",
   "version": "3.5.2"
  }
 },
 "nbformat": 4,
 "nbformat_minor": 1
}
